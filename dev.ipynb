{
 "cells": [
  {
   "cell_type": "markdown",
   "metadata": {},
   "source": [
    "# Occlusion development"
   ]
  },
  {
   "cell_type": "code",
   "execution_count": 1,
   "metadata": {},
   "outputs": [],
   "source": [
    "%load_ext autoreload\n",
    "%autoreload 2"
   ]
  },
  {
   "cell_type": "code",
   "execution_count": 2,
   "metadata": {},
   "outputs": [],
   "source": [
    "import numpy as np\n",
    "import matplotlib.pyplot as plt\n",
    "from dataclasses import dataclass, field\n",
    "import math\n",
    "import open3d as o3d"
   ]
  },
  {
   "cell_type": "code",
   "execution_count": 3,
   "metadata": {},
   "outputs": [],
   "source": [
    "def get_identity_transform():\n",
    "    return np.eye(4, 4, dtype=np.float64)"
   ]
  },
  {
   "cell_type": "code",
   "execution_count": 4,
   "metadata": {},
   "outputs": [],
   "source": [
    "@dataclass\n",
    "class Camera:\n",
    "    f_x: float\n",
    "    f_y: float\n",
    "    c_x: float\n",
    "    c_y: float\n",
    "    s: float = 0.0\n",
    "    T_camera_world: np.ndarray = field(default_factory=get_identity_transform)\n",
    "\n",
    "    @property\n",
    "    def calibration_matrix(self) -> np.ndarray:\n",
    "        return np.array([[self.f_x, self.s, self.c_x], [0, self.f_y, self.c_y], [0, 0, 1]], dtype=float)\n",
    "    \n",
    "    def set_transform(self, T: np.ndarray):\n",
    "        self.T_camera_world = T\n",
    "\n",
    "    @property\n",
    "    def camera_matrix(self):\n",
    "        C = get_identity_transform()\n",
    "        C[:3, :3] = self.calibration_matrix\n",
    "        return C @ self.T_camera_world\n",
    "\n",
    "    @classmethod\n",
    "    def from_screensize(cls, W: int, H: int, f: float) -> \"Camera\":\n",
    "        return cls(f, f, W//2, H//2, 0)"
   ]
  },
  {
   "cell_type": "code",
   "execution_count": 50,
   "metadata": {},
   "outputs": [],
   "source": [
    "W = 1600\n",
    "H = 900\n",
    "horizontal_fov_degrees = 60\n",
    "horizontal_fov_rad = math.radians(horizontal_fov_degrees)\n",
    "f = W/2 * 1/(math.tan(horizontal_fov_rad/2))\n",
    "\n",
    "camera = Camera.from_screensize(W, H, f)"
   ]
  },
  {
   "cell_type": "code",
   "execution_count": 51,
   "metadata": {},
   "outputs": [
    {
     "data": {
      "text/plain": [
       "1385.6406460551023"
      ]
     },
     "execution_count": 51,
     "metadata": {},
     "output_type": "execute_result"
    }
   ],
   "source": [
    "f"
   ]
  },
  {
   "cell_type": "code",
   "execution_count": 52,
   "metadata": {},
   "outputs": [],
   "source": [
    "T_w_c = get_identity_transform()\n",
    "T_w_c[:3, 0] = [0, -1, 0]\n",
    "T_w_c[:3, 1] = [0, 0, 1]\n",
    "T_w_c[:3, 2] = [-1, 0, 0]\n",
    "T_w_c[:3, 3] = [0, 0, 1.0]\n",
    "T_c_w = np.linalg.inv(T_w_c)\n",
    "camera.set_transform(T_c_w)"
   ]
  },
  {
   "cell_type": "code",
   "execution_count": 53,
   "metadata": {},
   "outputs": [
    {
     "data": {
      "text/plain": [
       "array([[1.38564065e+03, 0.00000000e+00, 8.00000000e+02],\n",
       "       [0.00000000e+00, 1.38564065e+03, 4.50000000e+02],\n",
       "       [0.00000000e+00, 0.00000000e+00, 1.00000000e+00]])"
      ]
     },
     "execution_count": 53,
     "metadata": {},
     "output_type": "execute_result"
    }
   ],
   "source": [
    "camera.calibration_matrix"
   ]
  },
  {
   "cell_type": "code",
   "execution_count": 54,
   "metadata": {},
   "outputs": [],
   "source": [
    "C = camera.camera_matrix"
   ]
  },
  {
   "cell_type": "code",
   "execution_count": 55,
   "metadata": {},
   "outputs": [
    {
     "data": {
      "text/plain": [
       "array([[-8.00000000e+02, -1.38564065e+03,  0.00000000e+00,\n",
       "         0.00000000e+00],\n",
       "       [-4.50000000e+02,  0.00000000e+00,  1.38564065e+03,\n",
       "        -1.38564065e+03],\n",
       "       [-1.00000000e+00,  0.00000000e+00,  0.00000000e+00,\n",
       "         0.00000000e+00],\n",
       "       [ 0.00000000e+00,  0.00000000e+00,  0.00000000e+00,\n",
       "         1.00000000e+00]])"
      ]
     },
     "execution_count": 55,
     "metadata": {},
     "output_type": "execute_result"
    }
   ],
   "source": [
    "C"
   ]
  },
  {
   "cell_type": "code",
   "execution_count": 56,
   "metadata": {},
   "outputs": [],
   "source": [
    "triangle_in_world = np.array([\n",
    "    [10, -1, 1],\n",
    "    [10, 1, 1],\n",
    "    [10, 0, 2]\n",
    "])"
   ]
  },
  {
   "cell_type": "code",
   "execution_count": 57,
   "metadata": {},
   "outputs": [],
   "source": [
    "triangle2_in_world = np.array([\n",
    "    [20, 0, 1],\n",
    "    [20, 2, 1],\n",
    "    [20, 1, 2]\n",
    "])"
   ]
  },
  {
   "cell_type": "code",
   "execution_count": 58,
   "metadata": {},
   "outputs": [
    {
     "data": {
      "text/plain": [
       "array([[10., 10., 10.],\n",
       "       [-1.,  1.,  0.],\n",
       "       [ 1.,  1.,  2.],\n",
       "       [ 1.,  1.,  1.]])"
      ]
     },
     "execution_count": 58,
     "metadata": {},
     "output_type": "execute_result"
    }
   ],
   "source": [
    "triangle_in_world_homogenous = np.r_[triangle_in_world.T, np.ones((1, triangle_in_world.shape[0]), dtype=float)]\n",
    "triangle_in_world_homogenous"
   ]
  },
  {
   "cell_type": "code",
   "execution_count": 59,
   "metadata": {},
   "outputs": [
    {
     "data": {
      "text/plain": [
       "array([[20., 20., 20.],\n",
       "       [ 0.,  2.,  1.],\n",
       "       [ 1.,  1.,  2.],\n",
       "       [ 1.,  1.,  1.]])"
      ]
     },
     "execution_count": 59,
     "metadata": {},
     "output_type": "execute_result"
    }
   ],
   "source": [
    "triangle2_in_world_homogenous = np.r_[triangle2_in_world.T, np.ones((1, triangle2_in_world.shape[0]), dtype=float)]\n",
    "triangle2_in_world_homogenous"
   ]
  },
  {
   "cell_type": "code",
   "execution_count": 60,
   "metadata": {},
   "outputs": [
    {
     "data": {
      "text/plain": [
       "array([[ 6.61435935e+02,  9.38564065e+02,  8.00000000e+02],\n",
       "       [ 4.50000000e+02,  4.50000000e+02,  3.11435935e+02],\n",
       "       [ 1.00000000e+00,  1.00000000e+00,  1.00000000e+00],\n",
       "       [-1.00000000e-01, -1.00000000e-01, -1.00000000e-01]])"
      ]
     },
     "execution_count": 60,
     "metadata": {},
     "output_type": "execute_result"
    }
   ],
   "source": [
    "pts_unnormalized = C @ triangle_in_world_homogenous\n",
    "pts_unnormalized /= pts_unnormalized[2, :]\n",
    "pts_unnormalized"
   ]
  },
  {
   "cell_type": "code",
   "execution_count": 61,
   "metadata": {},
   "outputs": [
    {
     "data": {
      "text/plain": [
       "array([-10., -10., -10.])"
      ]
     },
     "execution_count": 61,
     "metadata": {},
     "output_type": "execute_result"
    }
   ],
   "source": [
    "z_values = 1/pts_unnormalized[3, :]\n",
    "z_values"
   ]
  },
  {
   "cell_type": "code",
   "execution_count": 62,
   "metadata": {},
   "outputs": [],
   "source": [
    "pts2_unnormalized = C @ triangle2_in_world_homogenous\n",
    "pts2_unnormalized /= pts2_unnormalized[2, :]"
   ]
  },
  {
   "cell_type": "code",
   "execution_count": 63,
   "metadata": {},
   "outputs": [
    {
     "data": {
      "text/plain": [
       "array([-20., -20., -20.])"
      ]
     },
     "execution_count": 63,
     "metadata": {},
     "output_type": "execute_result"
    }
   ],
   "source": [
    "z2_values = 1/pts2_unnormalized[3, :]\n",
    "z2_values"
   ]
  },
  {
   "cell_type": "code",
   "execution_count": 64,
   "metadata": {},
   "outputs": [
    {
     "data": {
      "text/plain": [
       "array([[ 8.00000000e+02,  9.38564065e+02,  8.69282032e+02],\n",
       "       [ 4.50000000e+02,  4.50000000e+02,  3.80717968e+02],\n",
       "       [ 1.00000000e+00,  1.00000000e+00,  1.00000000e+00],\n",
       "       [-5.00000000e-02, -5.00000000e-02, -5.00000000e-02]])"
      ]
     },
     "execution_count": 64,
     "metadata": {},
     "output_type": "execute_result"
    }
   ],
   "source": [
    "pts2_unnormalized"
   ]
  },
  {
   "cell_type": "code",
   "execution_count": 65,
   "metadata": {},
   "outputs": [],
   "source": [
    "t = pts_unnormalized.astype(int).T[:, :2]\n",
    "t2 = pts2_unnormalized.astype(int).T[:, :2]"
   ]
  },
  {
   "cell_type": "code",
   "execution_count": 66,
   "metadata": {},
   "outputs": [],
   "source": [
    "t_inverted = np.c_[t[:, 0], H-t[:, 1]]\n",
    "t2_inverted = np.c_[t2[:, 0], H-t2[:, 1]]"
   ]
  },
  {
   "cell_type": "code",
   "execution_count": 67,
   "metadata": {},
   "outputs": [
    {
     "data": {
      "text/plain": [
       "array([[661, 450],\n",
       "       [938, 450],\n",
       "       [800, 589]])"
      ]
     },
     "execution_count": 67,
     "metadata": {},
     "output_type": "execute_result"
    }
   ],
   "source": [
    "t_inverted\n"
   ]
  },
  {
   "cell_type": "code",
   "execution_count": 68,
   "metadata": {},
   "outputs": [],
   "source": [
    "from shapely import Polygon, box, GeometryCollection, Point"
   ]
  },
  {
   "cell_type": "code",
   "execution_count": 69,
   "metadata": {},
   "outputs": [
    {
     "data": {
      "image/svg+xml": [
       "<svg xmlns=\"http://www.w3.org/2000/svg\" xmlns:xlink=\"http://www.w3.org/1999/xlink\" width=\"300\" height=\"300\" viewBox=\"-64.0 -64.0 1728.0 1028.0\" preserveAspectRatio=\"xMinYMin meet\"><g transform=\"matrix(1,0,0,-1,0,900.0)\"><g><path fill-rule=\"evenodd\" fill=\"#66cc99\" stroke=\"#555555\" stroke-width=\"11.52\" opacity=\"0.6\" d=\"M 661.0,450.0 L 938.0,450.0 L 800.0,589.0 L 661.0,450.0 z\" /><path fill-rule=\"evenodd\" fill=\"#66cc99\" stroke=\"#555555\" stroke-width=\"11.52\" opacity=\"0.6\" d=\"M 800.0,450.0 L 938.0,450.0 L 869.0,520.0 L 800.0,450.0 z\" /><path fill-rule=\"evenodd\" fill=\"#66cc99\" stroke=\"#555555\" stroke-width=\"11.52\" opacity=\"0.6\" d=\"M 1600.0,0.0 L 1600.0,900.0 L 0.0,900.0 L 0.0,0.0 L 1600.0,0.0 z\" /><circle cx=\"800.0\" cy=\"450.0\" r=\"17.28\" stroke=\"#555555\" stroke-width=\"5.76\" fill=\"#66cc99\" opacity=\"0.6\" /></g></g></svg>"
      ],
      "text/plain": [
       "<GEOMETRYCOLLECTION (POLYGON ((661 450, 938 450, 800 589, 661 450)), POLYGON...>"
      ]
     },
     "execution_count": 69,
     "metadata": {},
     "output_type": "execute_result"
    }
   ],
   "source": [
    "GeometryCollection([Polygon(t_inverted), Polygon(t2_inverted), box(0, 0, W, H), Point(W/2, H/2)])"
   ]
  },
  {
   "cell_type": "code",
   "execution_count": 70,
   "metadata": {},
   "outputs": [],
   "source": [
    "from src.trast import Rasterizer"
   ]
  },
  {
   "cell_type": "code",
   "execution_count": 71,
   "metadata": {},
   "outputs": [],
   "source": [
    "r = Rasterizer(screen=(W, H), pixel=255)"
   ]
  },
  {
   "cell_type": "code",
   "execution_count": 72,
   "metadata": {},
   "outputs": [],
   "source": [
    "r.rasterize_triangle(face=t2_inverted)"
   ]
  },
  {
   "cell_type": "code",
   "execution_count": 73,
   "metadata": {},
   "outputs": [
    {
     "data": {
      "image/png": "[encoded data removed]",
      "text/plain": [
       "<Figure size 640x480 with 1 Axes>"
      ]
     },
     "metadata": {},
     "output_type": "display_data"
    }
   ],
   "source": [
    "r.quick_plot()"
   ]
  },
  {
   "cell_type": "markdown",
   "metadata": {},
   "source": [
    "## Create a more realistic scene"
   ]
  },
  {
   "cell_type": "code",
   "execution_count": 74,
   "metadata": {},
   "outputs": [],
   "source": [
    "from scipy.spatial.transform import Rotation as R"
   ]
  },
  {
   "cell_type": "code",
   "execution_count": 75,
   "metadata": {},
   "outputs": [
    {
     "name": "stdout",
     "output_type": "stream",
     "text": [
      "\u001b[0;31mDocstring:\u001b[0m\n",
      "create_sphere(radius=1.0, resolution=20, create_uv_map=False)\n",
      "Factory function to create a sphere mesh centered at (0, 0, 0).\n",
      "\n",
      "Args:\n",
      "    radius (float, optional, default=1.0): The radius of the sphere.\n",
      "    resolution (int, optional, default=20): The resolution of the sphere. The longitues will be split into ``resolution`` segments (i.e. there are ``resolution + 1`` latitude lines including the north and south pole). The latitudes will be split into ```2 * resolution`` segments (i.e. there are ``2 * resolution`` longitude lines.)\n",
      "    create_uv_map (bool, optional, default=False): Add default uv map to the mesh.\n",
      "\n",
      "Returns:\n",
      "    open3d.geometry.TriangleMesh\n",
      "\u001b[0;31mType:\u001b[0m      builtin_function_or_method"
     ]
    }
   ],
   "source": [
    "o3d.geometry.TriangleMesh.create_sphere?"
   ]
  },
  {
   "cell_type": "code",
   "execution_count": 76,
   "metadata": {},
   "outputs": [],
   "source": [
    "sphere1_mesh = o3d.geometry.TriangleMesh.create_sphere(radius=1, resolution=40)\n",
    "sphere2_mesh = o3d.geometry.TriangleMesh.create_sphere(radius=1, resolution=40)"
   ]
  },
  {
   "cell_type": "code",
   "execution_count": 77,
   "metadata": {},
   "outputs": [],
   "source": [
    "def create_trafo_matrix(tranlation: tuple[float, float], yaw_deg: float = 0.0):\n",
    "    T = get_identity_transform()\n",
    "\n",
    "    r = R.from_euler('z', yaw_deg, degrees=True)\n",
    "    T[:3, :3] = r.as_matrix()\n",
    "\n",
    "    T[:3, 3] = np.array(tranlation)\n",
    "    return T"
   ]
  },
  {
   "cell_type": "code",
   "execution_count": 78,
   "metadata": {},
   "outputs": [],
   "source": [
    "T_world_sphere1 = create_trafo_matrix((8, 0, 1), 0.0)\n",
    "T_world_sphere2 = create_trafo_matrix((10, 0.5, 1.5), 0.0)  # 3m behind"
   ]
  },
  {
   "cell_type": "code",
   "execution_count": 79,
   "metadata": {},
   "outputs": [],
   "source": [
    "sphere1_mesh_world = sphere1_mesh.transform(T_world_sphere1)\n",
    "sphere2_mesh_world = sphere2_mesh.transform(T_world_sphere2)"
   ]
  },
  {
   "cell_type": "code",
   "execution_count": 80,
   "metadata": {},
   "outputs": [
    {
     "data": {
      "text/plain": [
       "TriangleMesh with 3122 points and 6240 triangles."
      ]
     },
     "execution_count": 80,
     "metadata": {},
     "output_type": "execute_result"
    }
   ],
   "source": [
    "sphere1_mesh_world.compute_vertex_normals()\n",
    "sphere2_mesh_world.compute_vertex_normals()"
   ]
  },
  {
   "cell_type": "code",
   "execution_count": 81,
   "metadata": {},
   "outputs": [],
   "source": [
    "# o3d.visualization.draw([sphere1_mesh_world, sphere2_mesh_world], raw_mode=True)"
   ]
  },
  {
   "cell_type": "code",
   "execution_count": 82,
   "metadata": {},
   "outputs": [],
   "source": [
    "mesh1_vertices = np.asarray(sphere1_mesh_world.vertices)\n",
    "mesh2_vertices = np.asarray(sphere2_mesh_world.vertices)"
   ]
  },
  {
   "cell_type": "code",
   "execution_count": 83,
   "metadata": {},
   "outputs": [],
   "source": [
    "def transform_with_camera_matrix(C: np.ndarray, points: np.ndarray, normalize = True):\n",
    "\n",
    "    num_points = points.shape[0]\n",
    "    points_with_ones_column = np.r_[points.T, np.ones((1, num_points), dtype=float)]\n",
    "\n",
    "    pts_transformed = C @ points_with_ones_column\n",
    "    # normalize\n",
    "    pts_transformed /= pts_transformed[2, :]\n",
    "    return pts_transformed.T"
   ]
  },
  {
   "cell_type": "code",
   "execution_count": 84,
   "metadata": {},
   "outputs": [],
   "source": [
    "mesh1_vertices_screen = transform_with_camera_matrix(C, mesh1_vertices)\n",
    "mesh2_vertices_screen = transform_with_camera_matrix(C, mesh2_vertices)"
   ]
  },
  {
   "cell_type": "code",
   "execution_count": 85,
   "metadata": {},
   "outputs": [],
   "source": [
    "mesh1_vertices_screen[:, 1] = H-mesh1_vertices_screen[:, 1]\n",
    "mesh2_vertices_screen[:, 1] = H-mesh2_vertices_screen[:, 1]\n",
    "mesh1_vertices_screen[:, 0] = W-mesh1_vertices_screen[:, 0]\n",
    "mesh2_vertices_screen[:, 0] = W-mesh2_vertices_screen[:, 0]"
   ]
  },
  {
   "cell_type": "code",
   "execution_count": 86,
   "metadata": {},
   "outputs": [
    {
     "data": {
      "text/plain": [
       "(275.51543628170145, 624.4845637182987)"
      ]
     },
     "execution_count": 86,
     "metadata": {},
     "output_type": "execute_result"
    }
   ],
   "source": [
    "mesh1_vertices_screen[:, 1].min(), mesh1_vertices_screen[:, 1].max()"
   ]
  },
  {
   "cell_type": "code",
   "execution_count": 87,
   "metadata": {},
   "outputs": [
    {
     "data": {
      "text/plain": [
       "(-0.14285714285714285, -0.1111111111111111)"
      ]
     },
     "execution_count": 87,
     "metadata": {},
     "output_type": "execute_result"
    }
   ],
   "source": [
    "mesh1_vertices_screen[:, 3].min(), mesh1_vertices_screen[:, 3].max()"
   ]
  },
  {
   "cell_type": "code",
   "execution_count": 88,
   "metadata": {},
   "outputs": [
    {
     "data": {
      "text/plain": [
       "(-0.1111111111111111, -0.09090909090909091)"
      ]
     },
     "execution_count": 88,
     "metadata": {},
     "output_type": "execute_result"
    }
   ],
   "source": [
    "mesh2_vertices_screen[:, 3].min(), mesh2_vertices_screen[:, 3].max()"
   ]
  },
  {
   "cell_type": "code",
   "execution_count": 89,
   "metadata": {},
   "outputs": [],
   "source": [
    "from tqdm import tqdm"
   ]
  },
  {
   "cell_type": "code",
   "execution_count": 90,
   "metadata": {},
   "outputs": [
    {
     "name": "stderr",
     "output_type": "stream",
     "text": [
      "100%|██████████| 6240/6240 [00:00<00:00, 23785.12it/s]\n",
      "100%|██████████| 6240/6240 [00:00<00:00, 35523.58it/s]\n"
     ]
    }
   ],
   "source": [
    "r = Rasterizer(screen=(W, H), pixel=255)\n",
    "\n",
    "for triangle_indices in tqdm(sphere1_mesh.triangles, total=len(sphere1_mesh.triangles)):\n",
    "    vertices_triangle = mesh1_vertices_screen[triangle_indices, :]\n",
    "    vertices_triangle_xy = vertices_triangle[:, :2]\n",
    "    vertices_triangle_z = vertices_triangle[:, 3]\n",
    "\n",
    "    avg_z_value = vertices_triangle_z.mean()\n",
    "    r.rasterize_triangle(vertices_triangle_xy, avg_z_value)\n",
    "\n",
    "for triangle_indices in tqdm(sphere2_mesh.triangles, total=len(sphere2_mesh.triangles)):\n",
    "    vertices_triangle = mesh2_vertices_screen[triangle_indices, :]\n",
    "    vertices_triangle_xy = vertices_triangle[:, :2]\n",
    "    vertices_triangle_z = vertices_triangle[:, 3]\n",
    "\n",
    "    avg_z_value = vertices_triangle_z.mean()\n",
    "    r.rasterize_triangle(vertices_triangle_xy, avg_z_value)"
   ]
  },
  {
   "cell_type": "code",
   "execution_count": 92,
   "metadata": {},
   "outputs": [
    {
     "data": {
      "text/plain": [
       "<matplotlib.lines.Line2D at 0x175dc2bd0>"
      ]
     },
     "execution_count": 92,
     "metadata": {},
     "output_type": "execute_result"
    },
    {
     "data": {
      "image/png": "[encoded data removed]",
      "text/plain": [
       "<Figure size 1600x900 with 1 Axes>"
      ]
     },
     "metadata": {},
     "output_type": "display_data"
    }
   ],
   "source": [
    "plt.figure(figsize=(16, 9))\n",
    "plt.imshow(r._screen, cmap=plt.cm.gray_r, origin='upper', interpolation=\"nearest\", vmax=None)\n",
    "\n",
    "ax = plt.gca()\n",
    "ax.axhline(H/2, color=\"red\", lw=0.1)\n",
    "ax.axvline(W/2, color=\"red\", lw=0.1)"
   ]
  },
  {
   "cell_type": "code",
   "execution_count": null,
   "metadata": {},
   "outputs": [],
   "source": []
  }
 ],
 "metadata": {
  "kernelspec": {
   "display_name": "occlusion-modeling-z_bfH_Am-py3.11",
   "language": "python",
   "name": "python3"
  },
  "language_info": {
   "codemirror_mode": {
    "name": "ipython",
    "version": 3
   },
   "file_extension": ".py",
   "mimetype": "text/x-python",
   "name": "python",
   "nbconvert_exporter": "python",
   "pygments_lexer": "ipython3",
   "version": "3.11.8"
  }
 },
 "nbformat": 4,
 "nbformat_minor": 2
}
