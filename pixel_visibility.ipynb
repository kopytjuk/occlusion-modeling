{
 "cells": [
  {
   "cell_type": "markdown",
   "metadata": {},
   "source": [
    "# Occlusion by pixel visibility\n",
    "\n",
    "## Overview\n",
    "\n",
    "1. Transform objects meshes to screen coordinates (i.e. pixel coordinates) with a depth value (i.e. Z-value)\n",
    "2. For each mesh $k$, create a rasterized matrix $Z_k$ (2D map) which holds the Z-value for each pixel\n",
    "3. Create a visibility matrix $V_{i,j}$ where each pixel holds the index of the lowest Z-value:\n",
    "\n",
    "    $$\n",
    "    V_{i, j} = \\arg \\min_{k} Z_k\n",
    "    $$\n",
    "4. Compute the visibility score:\n",
    "    $$\n",
    "    \\frac{V == k}{Z_k}\n",
    "    $$\n",
    "\n",
    "## References\n",
    "\n",
    "[1]  Richard Szeliski, Computer Vision: Algorithms and Applications, 2nd ed. 2022"
   ]
  },
  {
   "cell_type": "code",
   "execution_count": 150,
   "metadata": {},
   "outputs": [
    {
     "name": "stdout",
     "output_type": "stream",
     "text": [
      "The autoreload extension is already loaded. To reload it, use:\n",
      "  %reload_ext autoreload\n"
     ]
    }
   ],
   "source": [
    "%load_ext autoreload\n",
    "%autoreload 2"
   ]
  },
  {
   "cell_type": "code",
   "execution_count": 151,
   "metadata": {},
   "outputs": [],
   "source": [
    "import numpy as np\n",
    "import matplotlib.pyplot as plt\n",
    "from dataclasses import dataclass, field\n",
    "import math\n",
    "import open3d as o3d\n",
    "\n",
    "# own functions\n",
    "from src.utils import identity_transform, create_transform_from_translation_and_yaw"
   ]
  },
  {
   "cell_type": "markdown",
   "metadata": {},
   "source": [
    "## Create a set of objects in the scene"
   ]
  },
  {
   "cell_type": "code",
   "execution_count": 152,
   "metadata": {},
   "outputs": [],
   "source": [
    "# object poses (x, y, z, yaw) in {world} frame\n",
    "object_poses_world = [\n",
    "    (10.0, 0.0, 1.0, 0.0),  # 10m in x, and 1.0m in z\n",
    "    (13.0, 0.5, 1.0, 0.0),  # 13m in x, 0.5 to the left (y) and 1.0m in z\n",
    "     # (8.0, 2.0, 1.0, 0.0),\n",
    "]"
   ]
  },
  {
   "cell_type": "code",
   "execution_count": 153,
   "metadata": {},
   "outputs": [],
   "source": [
    "dataset = o3d.data.BunnyMesh()\n",
    "bunny_mesh = o3d.io.read_triangle_mesh(dataset.path)"
   ]
  },
  {
   "cell_type": "code",
   "execution_count": 154,
   "metadata": {},
   "outputs": [],
   "source": [
    "# create object meshes in their corresponding {model} frame\n",
    "objects_model = [\n",
    "    o3d.geometry.TriangleMesh.create_sphere(radius=1, resolution=25),\n",
    "    o3d.geometry.TriangleMesh.create_sphere(radius=1, resolution=25),\n",
    "    # bunny_mesh.scale(5.0, center=np.asarray(bunny_mesh.vertices).mean(axis=0))\n",
    "]"
   ]
  },
  {
   "cell_type": "code",
   "execution_count": 155,
   "metadata": {},
   "outputs": [],
   "source": [
    "objects_world = list()\n",
    "\n",
    "for object, pose in zip(objects_model, object_poses_world):\n",
    "    T_world_model = create_transform_from_translation_and_yaw(pose[:3], pose[3])\n",
    "    objects_world.append(object.transform(T_world_model))"
   ]
  },
  {
   "cell_type": "code",
   "execution_count": 156,
   "metadata": {},
   "outputs": [
    {
     "data": {
      "text/plain": [
       "array([[10.        ,  0.        ,  2.        ],\n",
       "       [10.        ,  0.        ,  0.        ],\n",
       "       [10.12533323,  0.        ,  1.9921147 ],\n",
       "       [10.12434494,  0.01570842,  1.9921147 ]])"
      ]
     },
     "execution_count": 156,
     "metadata": {},
     "output_type": "execute_result"
    }
   ],
   "source": [
    "# take a glimpse to the vertex coordinates\n",
    "np.asarray(objects_world[0].vertices)[:4]"
   ]
  },
  {
   "cell_type": "markdown",
   "metadata": {},
   "source": [
    "## Transform the object meshes to screen coordinates\n",
    "\n",
    "### Implement camera matrix (intrinsic & extrinsic)"
   ]
  },
  {
   "cell_type": "code",
   "execution_count": 157,
   "metadata": {},
   "outputs": [],
   "source": [
    "@dataclass\n",
    "class Camera:\n",
    "\n",
    "    # parameters from [1] Eq. 2.57\n",
    "    f_x: float\n",
    "    f_y: float\n",
    "    c_x: float\n",
    "    c_y: float\n",
    "\n",
    "    s: float = 0.0\n",
    "    T_camera_world: np.ndarray = field(default_factory=identity_transform)\n",
    "\n",
    "    @property\n",
    "    def calibration_matrix(self) -> np.ndarray:\n",
    "        return np.array([[self.f_x, self.s, self.c_x], [0, self.f_y, self.c_y], [0, 0, 1]], dtype=float)\n",
    "    \n",
    "    def set_transform(self, T: np.ndarray) -> None:\n",
    "        \"\"\"Set {camera} -> {world} transformation.\"\"\"\n",
    "        self.T_camera_world = T\n",
    "\n",
    "    @property\n",
    "    def camera_matrix(self) -> np.ndarray:\n",
    "        \"\"\"Camera matrix as defined in [1] Eq. 2.64\n",
    "\n",
    "        Returns:\n",
    "            np.ndarray: 4x4 matrix\n",
    "        \"\"\"\n",
    "        C = identity_transform()\n",
    "        C[:3, :3] = self.calibration_matrix\n",
    "        camera_matrix = C @ self.T_camera_world\n",
    "        return camera_matrix\n",
    "\n",
    "    @classmethod\n",
    "    def from_screensize(cls, W: int, H: int, f: float) -> \"Camera\":\n",
    "        return cls(f, f, W//2, H//2, 0)"
   ]
  },
  {
   "cell_type": "code",
   "execution_count": 158,
   "metadata": {},
   "outputs": [],
   "source": [
    "# screen size in px\n",
    "W = 1600\n",
    "H = 900"
   ]
  },
  {
   "cell_type": "code",
   "execution_count": 159,
   "metadata": {},
   "outputs": [],
   "source": [
    "# [1] Equation 2.60\n",
    "horizontal_fov_degrees = 60\n",
    "horizontal_fov_rad = math.radians(horizontal_fov_degrees)\n",
    "f = W/2 * 1/(math.tan(horizontal_fov_rad/2))\n",
    "\n",
    "camera = Camera.from_screensize(W, H, f)"
   ]
  },
  {
   "cell_type": "code",
   "execution_count": 160,
   "metadata": {},
   "outputs": [],
   "source": [
    "# create a {world}->{camera} matrix\n",
    "T_w_c = identity_transform()\n",
    "\n",
    "# camera axes as expressed in {world}\n",
    "# optical axes is in parallel to x-{world} direction\n",
    "T_w_c[:3, 0] = [0, -1, 0]  # x-axis of {camera} points in negative y-{world}\n",
    "T_w_c[:3, 1] = [0, 0, 1]  # y-axis of {camera} points in positive z-{world}  \n",
    "T_w_c[:3, 2] = [-1, 0, 0] # z-axis of {camera} points in negative x-{world}\n",
    "\n",
    "camera_position = [0.0, 0.0, 1.0]  # 1m above ground!\n",
    "T_w_c[:3, 3] = camera_position\n",
    "T_c_w = np.linalg.inv(T_w_c)\n",
    "camera.set_transform(T_c_w)"
   ]
  },
  {
   "cell_type": "code",
   "execution_count": 161,
   "metadata": {},
   "outputs": [],
   "source": [
    "# 4x4 matrix used for upcoming transformations\n",
    "C = camera.camera_matrix"
   ]
  },
  {
   "cell_type": "markdown",
   "metadata": {},
   "source": [
    "### Apply camera matrix to transform vertices into screen coordinates"
   ]
  },
  {
   "cell_type": "code",
   "execution_count": 162,
   "metadata": {},
   "outputs": [],
   "source": [
    "def apply_camera_matrix(C: np.ndarray, points: np.ndarray) -> np.ndarray:\n",
    "    \"\"\"Apply camera transformation to multiple points in world coordinates.\n",
    "\n",
    "    Args:\n",
    "        C (np.ndarray): camera 4x4 matrix\n",
    "        points (np.ndarray): _description_\n",
    "        normalize (bool, optional): _description_. Defaults to True.\n",
    "\n",
    "    Returns:\n",
    "        np.ndarray: Nx3 matrix, with each row representing (x_px, y_px, z-value)\n",
    "    \"\"\"\n",
    "\n",
    "    num_points = points.shape[0]\n",
    "    points_with_ones_column = np.r_[points.T, np.ones((1, num_points), dtype=float)]\n",
    "\n",
    "    pts_transformed = C @ points_with_ones_column\n",
    "\n",
    "    # normalize to z_{screen}=1.0\n",
    "    pts_transformed /= pts_transformed[2, :]\n",
    "\n",
    "    # compute z-values instead of d values\n",
    "    pts_transformed[3, :] = 1/pts_transformed[3, :]\n",
    "    pts_transformed = pts_transformed.T\n",
    "    return pts_transformed[:, [0, 1, 3]]  # only x, y, z-value"
   ]
  },
  {
   "cell_type": "code",
   "execution_count": 163,
   "metadata": {},
   "outputs": [],
   "source": [
    "object_vertices_screen_list = []\n",
    "\n",
    "for object_mesh in objects_world:\n",
    "    object_vertices = np.asarray(object_mesh.vertices)\n",
    "\n",
    "    object_vertices_screen = apply_camera_matrix(C, object_vertices)\n",
    "\n",
    "    # revert to have the bitmaps similar to how we would see them\n",
    "    object_vertices_screen[:, 0] = W-object_vertices_screen[:, 0]\n",
    "    object_vertices_screen[:, 1] = H-object_vertices_screen[:, 1]\n",
    "    \n",
    "    object_vertices_screen_list.append(object_vertices_screen)"
   ]
  },
  {
   "cell_type": "code",
   "execution_count": 164,
   "metadata": {},
   "outputs": [
    {
     "data": {
      "text/plain": [
       "array([[746.706129  , 556.587742  , -13.        ],\n",
       "       [746.706129  , 343.412258  , -13.        ],\n",
       "       [747.21502984, 554.7374898 , -13.12533323],\n",
       "       [745.55259325, 554.74537675, -13.12434494],\n",
       "       [743.90768142, 554.76892027, -13.12139566]])"
      ]
     },
     "execution_count": 164,
     "metadata": {},
     "output_type": "execute_result"
    }
   ],
   "source": [
    "object_vertices_screen_list[1][:5, :]"
   ]
  },
  {
   "cell_type": "markdown",
   "metadata": {},
   "source": [
    "### Visualize all objects"
   ]
  },
  {
   "cell_type": "code",
   "execution_count": 165,
   "metadata": {},
   "outputs": [],
   "source": [
    "from src.trast import Rasterizer\n",
    "\n",
    "\n",
    "def rasterize_object(object_vertices: np.ndarray, object_triangles: np.ndarray, \n",
    "                     rasterizer: Rasterizer | None = None, screen: tuple[int, int] | None = None) -> np.ndarray:\n",
    "    \n",
    "    assert rasterizer or screen, \"Ether rasterizer or screen has to be specified!\"\n",
    "\n",
    "    rasterizer = rasterizer if rasterizer is not None else Rasterizer(\n",
    "        screen=screen)\n",
    "\n",
    "    for triangle_indices in object_triangles:\n",
    "        vertices_triangle = object_vertices[triangle_indices, :]\n",
    "\n",
    "        # 3x3 matrix, where each row corresponds to a single triangle vertex\n",
    "        vertices_triangle_xy = vertices_triangle[:, [0, 1]]\n",
    "\n",
    "        # we average over each triangle, acceptable for small triangles\n",
    "        vertices_triangle_z = vertices_triangle[:, 2]\n",
    "        avg_z_value = np.abs(vertices_triangle_z.mean())\n",
    "\n",
    "        rasterizer.rasterize_triangle(\n",
    "            vertices_triangle_xy, z_value=avg_z_value)\n",
    "\n",
    "    return rasterizer.raster"
   ]
  },
  {
   "cell_type": "code",
   "execution_count": 166,
   "metadata": {},
   "outputs": [],
   "source": [
    "from src.trast import Rasterizer\n",
    "from tqdm import tqdm"
   ]
  },
  {
   "cell_type": "code",
   "execution_count": 167,
   "metadata": {},
   "outputs": [
    {
     "data": {
      "text/plain": [
       "2"
      ]
     },
     "execution_count": 167,
     "metadata": {},
     "output_type": "execute_result"
    }
   ],
   "source": [
    "len(object_vertices_screen_list)"
   ]
  },
  {
   "cell_type": "code",
   "execution_count": 168,
   "metadata": {},
   "outputs": [],
   "source": [
    "rasterizer = Rasterizer(screen=(W, H))\n",
    "\n",
    "for object_triangles_screen, object_mesh_original in zip(object_vertices_screen_list, objects_model):\n",
    "    raster_matrix = rasterize_object(object_triangles_screen, object_mesh_original.triangles, rasterizer=rasterizer)"
   ]
  },
  {
   "cell_type": "code",
   "execution_count": 170,
   "metadata": {},
   "outputs": [
    {
     "data": {
      "text/plain": [
       "Text(0.5, 1.0, '2 3D obstacles as visible from the observer in pixel space.')"
      ]
     },
     "execution_count": 170,
     "metadata": {},
     "output_type": "execute_result"
    },
    {
     "data": {
      "image/png": "[encoded data removed]",
      "text/plain": [
       "<Figure size 800x500 with 1 Axes>"
      ]
     },
     "metadata": {},
     "output_type": "display_data"
    }
   ],
   "source": [
    "plt.figure(figsize=(8, 5))\n",
    "plt.imshow(rasterizer._screen, cmap=plt.cm.gray_r, origin='upper', interpolation=\"nearest\", vmax=None)\n",
    "\n",
    "ax = plt.gca()\n",
    "ax.axhline(H/2, color=\"red\", lw=0.2)\n",
    "ax.axvline(W/2, color=\"red\", lw=0.2)\n",
    "ax.set_title(f\"{len(objects_world)} 3D obstacles as visible from the observer in pixel space.\")"
   ]
  },
  {
   "cell_type": "markdown",
   "metadata": {},
   "source": [
    "## Z-buffer for each object"
   ]
  },
  {
   "cell_type": "code",
   "execution_count": 173,
   "metadata": {},
   "outputs": [],
   "source": [
    "z_buffers = [\n",
    "    rasterize_object(object_triangles_screen,\n",
    "                     object_mesh_original.triangles, screen=(W, H))\n",
    "    for object_triangles_screen, object_mesh_original in zip(object_vertices_screen_list, objects_model)\n",
    "]"
   ]
  },
  {
   "cell_type": "markdown",
   "metadata": {},
   "source": [
    "## Visibility matrix for the scene including all objects"
   ]
  },
  {
   "cell_type": "code",
   "execution_count": 174,
   "metadata": {},
   "outputs": [],
   "source": [
    "import itertools"
   ]
  },
  {
   "cell_type": "code",
   "execution_count": 175,
   "metadata": {},
   "outputs": [],
   "source": [
    "V = -1*np.ones((H, W), dtype=int)\n",
    "for i, j in itertools.product(range(H), range(W)):\n",
    "    z_buffer_values = np.array([z_k[i, j] for z_k in z_buffers])\n",
    "    if (z_buffer_values == np.inf).all():\n",
    "        V[i, j] = -1\n",
    "        continue\n",
    "    V[i, j] = np.argmin(z_buffer_values)"
   ]
  },
  {
   "cell_type": "markdown",
   "metadata": {},
   "source": [
    "## Compute visibility values for each object"
   ]
  },
  {
   "cell_type": "code",
   "execution_count": 176,
   "metadata": {},
   "outputs": [],
   "source": [
    "visibility_values = list()\n",
    "\n",
    "for k in range(len(objects_model)):\n",
    "    vis_value = (V == k).sum() /(z_buffers[k] < np.inf).sum()\n",
    "    visibility_values.append(vis_value)"
   ]
  },
  {
   "cell_type": "code",
   "execution_count": 177,
   "metadata": {},
   "outputs": [
    {
     "data": {
      "text/plain": [
       "[1.0, 0.08752765486725664]"
      ]
     },
     "execution_count": 177,
     "metadata": {},
     "output_type": "execute_result"
    }
   ],
   "source": [
    "visibility_values"
   ]
  },
  {
   "cell_type": "code",
   "execution_count": 178,
   "metadata": {},
   "outputs": [
    {
     "data": {
      "text/plain": [
       "(-0.5, 1599.5, 899.5, -0.5)"
      ]
     },
     "execution_count": 178,
     "metadata": {},
     "output_type": "execute_result"
    },
    {
     "data": {
      "image/png": "[encoded data removed]",
      "text/plain": [
       "<Figure size 800x500 with 1 Axes>"
      ]
     },
     "metadata": {},
     "output_type": "display_data"
    }
   ],
   "source": [
    "plt.figure(figsize=(8, 5))\n",
    "\n",
    "\n",
    "k = 1  # object number\n",
    "\n",
    "map_for_plot = z_buffers[k].copy()\n",
    "map_for_plot[V==k] = 10\n",
    "plt.imshow(map_for_plot, origin='upper', interpolation=\"nearest\")\n",
    "plt.axis('off')"
   ]
  }
 ],
 "metadata": {
  "kernelspec": {
   "display_name": "occlusion-modeling-z_bfH_Am-py3.11",
   "language": "python",
   "name": "python3"
  },
  "language_info": {
   "codemirror_mode": {
    "name": "ipython",
    "version": 3
   },
   "file_extension": ".py",
   "mimetype": "text/x-python",
   "name": "python",
   "nbconvert_exporter": "python",
   "pygments_lexer": "ipython3",
   "version": "3.11.8"
  }
 },
 "nbformat": 4,
 "nbformat_minor": 2
}
